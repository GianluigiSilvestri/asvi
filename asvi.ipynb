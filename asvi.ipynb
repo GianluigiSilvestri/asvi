{
  "nbformat": 4,
  "nbformat_minor": 0,
  "metadata": {
    "colab": {
      "name": "asvi.ipynb",
      "provenance": [],
      "authorship_tag": "ABX9TyPECk5XO4TPcqa+9y6rM2Zs",
      "include_colab_link": true
    },
    "kernelspec": {
      "name": "python3",
      "display_name": "Python 3"
    },
    "widgets": {
      "application/vnd.jupyter.widget-state+json": {
        "031c8f5db64b4879aca214a3b2645dc8": {
          "model_module": "@jupyter-widgets/controls",
          "model_name": "HBoxModel",
          "state": {
            "_view_name": "HBoxView",
            "_dom_classes": [],
            "_model_name": "HBoxModel",
            "_view_module": "@jupyter-widgets/controls",
            "_model_module_version": "1.5.0",
            "_view_count": null,
            "_view_module_version": "1.5.0",
            "box_style": "",
            "layout": "IPY_MODEL_df54cdcba0eb40e0be5ad5efef076094",
            "_model_module": "@jupyter-widgets/controls",
            "children": [
              "IPY_MODEL_e44611a93c6940ca90b0cc0d9b5be992",
              "IPY_MODEL_dda7f135c734457a9a82696da58f7dc3"
            ]
          }
        },
        "df54cdcba0eb40e0be5ad5efef076094": {
          "model_module": "@jupyter-widgets/base",
          "model_name": "LayoutModel",
          "state": {
            "_view_name": "LayoutView",
            "grid_template_rows": null,
            "right": null,
            "justify_content": null,
            "_view_module": "@jupyter-widgets/base",
            "overflow": null,
            "_model_module_version": "1.2.0",
            "_view_count": null,
            "flex_flow": null,
            "width": null,
            "min_width": null,
            "border": null,
            "align_items": null,
            "bottom": null,
            "_model_module": "@jupyter-widgets/base",
            "top": null,
            "grid_column": null,
            "overflow_y": null,
            "overflow_x": null,
            "grid_auto_flow": null,
            "grid_area": null,
            "grid_template_columns": null,
            "flex": null,
            "_model_name": "LayoutModel",
            "justify_items": null,
            "grid_row": null,
            "max_height": null,
            "align_content": null,
            "visibility": null,
            "align_self": null,
            "height": null,
            "min_height": null,
            "padding": null,
            "grid_auto_rows": null,
            "grid_gap": null,
            "max_width": null,
            "order": null,
            "_view_module_version": "1.2.0",
            "grid_template_areas": null,
            "object_position": null,
            "object_fit": null,
            "grid_auto_columns": null,
            "margin": null,
            "display": null,
            "left": null
          }
        },
        "e44611a93c6940ca90b0cc0d9b5be992": {
          "model_module": "@jupyter-widgets/controls",
          "model_name": "FloatProgressModel",
          "state": {
            "_view_name": "ProgressView",
            "style": "IPY_MODEL_8a20ebc658a44f7b92604845e565d6c4",
            "_dom_classes": [],
            "description": "100%",
            "_model_name": "FloatProgressModel",
            "bar_style": "success",
            "max": 20000,
            "_view_module": "@jupyter-widgets/controls",
            "_model_module_version": "1.5.0",
            "value": 20000,
            "_view_count": null,
            "_view_module_version": "1.5.0",
            "orientation": "horizontal",
            "min": 0,
            "description_tooltip": null,
            "_model_module": "@jupyter-widgets/controls",
            "layout": "IPY_MODEL_88534f25c39040beae37882fba62faaf"
          }
        },
        "dda7f135c734457a9a82696da58f7dc3": {
          "model_module": "@jupyter-widgets/controls",
          "model_name": "HTMLModel",
          "state": {
            "_view_name": "HTMLView",
            "style": "IPY_MODEL_2bcbbf8e42094803ac51af96760b5658",
            "_dom_classes": [],
            "description": "",
            "_model_name": "HTMLModel",
            "placeholder": "​",
            "_view_module": "@jupyter-widgets/controls",
            "_model_module_version": "1.5.0",
            "value": " 20000/20000 [07:52&lt;00:00, 42.33epochs/s, loss=-2.48]",
            "_view_count": null,
            "_view_module_version": "1.5.0",
            "description_tooltip": null,
            "_model_module": "@jupyter-widgets/controls",
            "layout": "IPY_MODEL_c2da637d321a47098e29a4fef7931b73"
          }
        },
        "8a20ebc658a44f7b92604845e565d6c4": {
          "model_module": "@jupyter-widgets/controls",
          "model_name": "ProgressStyleModel",
          "state": {
            "_view_name": "StyleView",
            "_model_name": "ProgressStyleModel",
            "description_width": "initial",
            "_view_module": "@jupyter-widgets/base",
            "_model_module_version": "1.5.0",
            "_view_count": null,
            "_view_module_version": "1.2.0",
            "bar_color": null,
            "_model_module": "@jupyter-widgets/controls"
          }
        },
        "88534f25c39040beae37882fba62faaf": {
          "model_module": "@jupyter-widgets/base",
          "model_name": "LayoutModel",
          "state": {
            "_view_name": "LayoutView",
            "grid_template_rows": null,
            "right": null,
            "justify_content": null,
            "_view_module": "@jupyter-widgets/base",
            "overflow": null,
            "_model_module_version": "1.2.0",
            "_view_count": null,
            "flex_flow": null,
            "width": null,
            "min_width": null,
            "border": null,
            "align_items": null,
            "bottom": null,
            "_model_module": "@jupyter-widgets/base",
            "top": null,
            "grid_column": null,
            "overflow_y": null,
            "overflow_x": null,
            "grid_auto_flow": null,
            "grid_area": null,
            "grid_template_columns": null,
            "flex": null,
            "_model_name": "LayoutModel",
            "justify_items": null,
            "grid_row": null,
            "max_height": null,
            "align_content": null,
            "visibility": null,
            "align_self": null,
            "height": null,
            "min_height": null,
            "padding": null,
            "grid_auto_rows": null,
            "grid_gap": null,
            "max_width": null,
            "order": null,
            "_view_module_version": "1.2.0",
            "grid_template_areas": null,
            "object_position": null,
            "object_fit": null,
            "grid_auto_columns": null,
            "margin": null,
            "display": null,
            "left": null
          }
        },
        "2bcbbf8e42094803ac51af96760b5658": {
          "model_module": "@jupyter-widgets/controls",
          "model_name": "DescriptionStyleModel",
          "state": {
            "_view_name": "StyleView",
            "_model_name": "DescriptionStyleModel",
            "description_width": "",
            "_view_module": "@jupyter-widgets/base",
            "_model_module_version": "1.5.0",
            "_view_count": null,
            "_view_module_version": "1.2.0",
            "_model_module": "@jupyter-widgets/controls"
          }
        },
        "c2da637d321a47098e29a4fef7931b73": {
          "model_module": "@jupyter-widgets/base",
          "model_name": "LayoutModel",
          "state": {
            "_view_name": "LayoutView",
            "grid_template_rows": null,
            "right": null,
            "justify_content": null,
            "_view_module": "@jupyter-widgets/base",
            "overflow": null,
            "_model_module_version": "1.2.0",
            "_view_count": null,
            "flex_flow": null,
            "width": null,
            "min_width": null,
            "border": null,
            "align_items": null,
            "bottom": null,
            "_model_module": "@jupyter-widgets/base",
            "top": null,
            "grid_column": null,
            "overflow_y": null,
            "overflow_x": null,
            "grid_auto_flow": null,
            "grid_area": null,
            "grid_template_columns": null,
            "flex": null,
            "_model_name": "LayoutModel",
            "justify_items": null,
            "grid_row": null,
            "max_height": null,
            "align_content": null,
            "visibility": null,
            "align_self": null,
            "height": null,
            "min_height": null,
            "padding": null,
            "grid_auto_rows": null,
            "grid_gap": null,
            "max_width": null,
            "order": null,
            "_view_module_version": "1.2.0",
            "grid_template_areas": null,
            "object_position": null,
            "object_fit": null,
            "grid_auto_columns": null,
            "margin": null,
            "display": null,
            "left": null
          }
        },
        "42bf23f55fa34da89da65917dcd31afa": {
          "model_module": "@jupyter-widgets/controls",
          "model_name": "HBoxModel",
          "state": {
            "_view_name": "HBoxView",
            "_dom_classes": [],
            "_model_name": "HBoxModel",
            "_view_module": "@jupyter-widgets/controls",
            "_model_module_version": "1.5.0",
            "_view_count": null,
            "_view_module_version": "1.5.0",
            "box_style": "",
            "layout": "IPY_MODEL_7e585ffe06d84f7f8b6d04c48113c85c",
            "_model_module": "@jupyter-widgets/controls",
            "children": [
              "IPY_MODEL_bac8608076374da3912527fb8d28b20a",
              "IPY_MODEL_563c0879bd6c40bfbc0569017a4118d7"
            ]
          }
        },
        "7e585ffe06d84f7f8b6d04c48113c85c": {
          "model_module": "@jupyter-widgets/base",
          "model_name": "LayoutModel",
          "state": {
            "_view_name": "LayoutView",
            "grid_template_rows": null,
            "right": null,
            "justify_content": null,
            "_view_module": "@jupyter-widgets/base",
            "overflow": null,
            "_model_module_version": "1.2.0",
            "_view_count": null,
            "flex_flow": null,
            "width": null,
            "min_width": null,
            "border": null,
            "align_items": null,
            "bottom": null,
            "_model_module": "@jupyter-widgets/base",
            "top": null,
            "grid_column": null,
            "overflow_y": null,
            "overflow_x": null,
            "grid_auto_flow": null,
            "grid_area": null,
            "grid_template_columns": null,
            "flex": null,
            "_model_name": "LayoutModel",
            "justify_items": null,
            "grid_row": null,
            "max_height": null,
            "align_content": null,
            "visibility": null,
            "align_self": null,
            "height": null,
            "min_height": null,
            "padding": null,
            "grid_auto_rows": null,
            "grid_gap": null,
            "max_width": null,
            "order": null,
            "_view_module_version": "1.2.0",
            "grid_template_areas": null,
            "object_position": null,
            "object_fit": null,
            "grid_auto_columns": null,
            "margin": null,
            "display": null,
            "left": null
          }
        },
        "bac8608076374da3912527fb8d28b20a": {
          "model_module": "@jupyter-widgets/controls",
          "model_name": "FloatProgressModel",
          "state": {
            "_view_name": "ProgressView",
            "style": "IPY_MODEL_8724434ae52e42dd97ad8fe32bc19836",
            "_dom_classes": [],
            "description": "100%",
            "_model_name": "FloatProgressModel",
            "bar_style": "success",
            "max": 20000,
            "_view_module": "@jupyter-widgets/controls",
            "_model_module_version": "1.5.0",
            "value": 20000,
            "_view_count": null,
            "_view_module_version": "1.5.0",
            "orientation": "horizontal",
            "min": 0,
            "description_tooltip": null,
            "_model_module": "@jupyter-widgets/controls",
            "layout": "IPY_MODEL_9ecf2990686a4ec8893344dd4ff33446"
          }
        },
        "563c0879bd6c40bfbc0569017a4118d7": {
          "model_module": "@jupyter-widgets/controls",
          "model_name": "HTMLModel",
          "state": {
            "_view_name": "HTMLView",
            "style": "IPY_MODEL_bba8dcc6f26f4aa09e8010f1f8f750b1",
            "_dom_classes": [],
            "description": "",
            "_model_name": "HTMLModel",
            "placeholder": "​",
            "_view_module": "@jupyter-widgets/controls",
            "_model_module_version": "1.5.0",
            "value": " 20000/20000 [07:05&lt;00:00, 46.97epochs/s, loss=-7.18]",
            "_view_count": null,
            "_view_module_version": "1.5.0",
            "description_tooltip": null,
            "_model_module": "@jupyter-widgets/controls",
            "layout": "IPY_MODEL_3fbecdfc623c464bbef05ba817e0ed42"
          }
        },
        "8724434ae52e42dd97ad8fe32bc19836": {
          "model_module": "@jupyter-widgets/controls",
          "model_name": "ProgressStyleModel",
          "state": {
            "_view_name": "StyleView",
            "_model_name": "ProgressStyleModel",
            "description_width": "initial",
            "_view_module": "@jupyter-widgets/base",
            "_model_module_version": "1.5.0",
            "_view_count": null,
            "_view_module_version": "1.2.0",
            "bar_color": null,
            "_model_module": "@jupyter-widgets/controls"
          }
        },
        "9ecf2990686a4ec8893344dd4ff33446": {
          "model_module": "@jupyter-widgets/base",
          "model_name": "LayoutModel",
          "state": {
            "_view_name": "LayoutView",
            "grid_template_rows": null,
            "right": null,
            "justify_content": null,
            "_view_module": "@jupyter-widgets/base",
            "overflow": null,
            "_model_module_version": "1.2.0",
            "_view_count": null,
            "flex_flow": null,
            "width": null,
            "min_width": null,
            "border": null,
            "align_items": null,
            "bottom": null,
            "_model_module": "@jupyter-widgets/base",
            "top": null,
            "grid_column": null,
            "overflow_y": null,
            "overflow_x": null,
            "grid_auto_flow": null,
            "grid_area": null,
            "grid_template_columns": null,
            "flex": null,
            "_model_name": "LayoutModel",
            "justify_items": null,
            "grid_row": null,
            "max_height": null,
            "align_content": null,
            "visibility": null,
            "align_self": null,
            "height": null,
            "min_height": null,
            "padding": null,
            "grid_auto_rows": null,
            "grid_gap": null,
            "max_width": null,
            "order": null,
            "_view_module_version": "1.2.0",
            "grid_template_areas": null,
            "object_position": null,
            "object_fit": null,
            "grid_auto_columns": null,
            "margin": null,
            "display": null,
            "left": null
          }
        },
        "bba8dcc6f26f4aa09e8010f1f8f750b1": {
          "model_module": "@jupyter-widgets/controls",
          "model_name": "DescriptionStyleModel",
          "state": {
            "_view_name": "StyleView",
            "_model_name": "DescriptionStyleModel",
            "description_width": "",
            "_view_module": "@jupyter-widgets/base",
            "_model_module_version": "1.5.0",
            "_view_count": null,
            "_view_module_version": "1.2.0",
            "_model_module": "@jupyter-widgets/controls"
          }
        },
        "3fbecdfc623c464bbef05ba817e0ed42": {
          "model_module": "@jupyter-widgets/base",
          "model_name": "LayoutModel",
          "state": {
            "_view_name": "LayoutView",
            "grid_template_rows": null,
            "right": null,
            "justify_content": null,
            "_view_module": "@jupyter-widgets/base",
            "overflow": null,
            "_model_module_version": "1.2.0",
            "_view_count": null,
            "flex_flow": null,
            "width": null,
            "min_width": null,
            "border": null,
            "align_items": null,
            "bottom": null,
            "_model_module": "@jupyter-widgets/base",
            "top": null,
            "grid_column": null,
            "overflow_y": null,
            "overflow_x": null,
            "grid_auto_flow": null,
            "grid_area": null,
            "grid_template_columns": null,
            "flex": null,
            "_model_name": "LayoutModel",
            "justify_items": null,
            "grid_row": null,
            "max_height": null,
            "align_content": null,
            "visibility": null,
            "align_self": null,
            "height": null,
            "min_height": null,
            "padding": null,
            "grid_auto_rows": null,
            "grid_gap": null,
            "max_width": null,
            "order": null,
            "_view_module_version": "1.2.0",
            "grid_template_areas": null,
            "object_position": null,
            "object_fit": null,
            "grid_auto_columns": null,
            "margin": null,
            "display": null,
            "left": null
          }
        },
        "f3acd73e21424da69dd1924f087e7aba": {
          "model_module": "@jupyter-widgets/controls",
          "model_name": "HBoxModel",
          "state": {
            "_view_name": "HBoxView",
            "_dom_classes": [],
            "_model_name": "HBoxModel",
            "_view_module": "@jupyter-widgets/controls",
            "_model_module_version": "1.5.0",
            "_view_count": null,
            "_view_module_version": "1.5.0",
            "box_style": "",
            "layout": "IPY_MODEL_5993faa197814a1bbcc7c541b4bd34c9",
            "_model_module": "@jupyter-widgets/controls",
            "children": [
              "IPY_MODEL_13f22c52abc340d9aba15067bd668d7a",
              "IPY_MODEL_6a47df2d70304c5db641d39fa286f023"
            ]
          }
        },
        "5993faa197814a1bbcc7c541b4bd34c9": {
          "model_module": "@jupyter-widgets/base",
          "model_name": "LayoutModel",
          "state": {
            "_view_name": "LayoutView",
            "grid_template_rows": null,
            "right": null,
            "justify_content": null,
            "_view_module": "@jupyter-widgets/base",
            "overflow": null,
            "_model_module_version": "1.2.0",
            "_view_count": null,
            "flex_flow": null,
            "width": null,
            "min_width": null,
            "border": null,
            "align_items": null,
            "bottom": null,
            "_model_module": "@jupyter-widgets/base",
            "top": null,
            "grid_column": null,
            "overflow_y": null,
            "overflow_x": null,
            "grid_auto_flow": null,
            "grid_area": null,
            "grid_template_columns": null,
            "flex": null,
            "_model_name": "LayoutModel",
            "justify_items": null,
            "grid_row": null,
            "max_height": null,
            "align_content": null,
            "visibility": null,
            "align_self": null,
            "height": null,
            "min_height": null,
            "padding": null,
            "grid_auto_rows": null,
            "grid_gap": null,
            "max_width": null,
            "order": null,
            "_view_module_version": "1.2.0",
            "grid_template_areas": null,
            "object_position": null,
            "object_fit": null,
            "grid_auto_columns": null,
            "margin": null,
            "display": null,
            "left": null
          }
        },
        "13f22c52abc340d9aba15067bd668d7a": {
          "model_module": "@jupyter-widgets/controls",
          "model_name": "FloatProgressModel",
          "state": {
            "_view_name": "ProgressView",
            "style": "IPY_MODEL_1f075e24c21d45aeafeea17230979c27",
            "_dom_classes": [],
            "description": "100%",
            "_model_name": "FloatProgressModel",
            "bar_style": "success",
            "max": 20000,
            "_view_module": "@jupyter-widgets/controls",
            "_model_module_version": "1.5.0",
            "value": 20000,
            "_view_count": null,
            "_view_module_version": "1.5.0",
            "orientation": "horizontal",
            "min": 0,
            "description_tooltip": null,
            "_model_module": "@jupyter-widgets/controls",
            "layout": "IPY_MODEL_0b0eed9295db4122b6754b0c6fc50ed9"
          }
        },
        "6a47df2d70304c5db641d39fa286f023": {
          "model_module": "@jupyter-widgets/controls",
          "model_name": "HTMLModel",
          "state": {
            "_view_name": "HTMLView",
            "style": "IPY_MODEL_38d50dacc7b64b8da78e28cda8d40db4",
            "_dom_classes": [],
            "description": "",
            "_model_name": "HTMLModel",
            "placeholder": "​",
            "_view_module": "@jupyter-widgets/controls",
            "_model_module_version": "1.5.0",
            "value": " 20000/20000 [08:10&lt;00:00, 40.81epochs/s, loss=6.9]",
            "_view_count": null,
            "_view_module_version": "1.5.0",
            "description_tooltip": null,
            "_model_module": "@jupyter-widgets/controls",
            "layout": "IPY_MODEL_c230044d468346e4bcc8192555fc70c7"
          }
        },
        "1f075e24c21d45aeafeea17230979c27": {
          "model_module": "@jupyter-widgets/controls",
          "model_name": "ProgressStyleModel",
          "state": {
            "_view_name": "StyleView",
            "_model_name": "ProgressStyleModel",
            "description_width": "initial",
            "_view_module": "@jupyter-widgets/base",
            "_model_module_version": "1.5.0",
            "_view_count": null,
            "_view_module_version": "1.2.0",
            "bar_color": null,
            "_model_module": "@jupyter-widgets/controls"
          }
        },
        "0b0eed9295db4122b6754b0c6fc50ed9": {
          "model_module": "@jupyter-widgets/base",
          "model_name": "LayoutModel",
          "state": {
            "_view_name": "LayoutView",
            "grid_template_rows": null,
            "right": null,
            "justify_content": null,
            "_view_module": "@jupyter-widgets/base",
            "overflow": null,
            "_model_module_version": "1.2.0",
            "_view_count": null,
            "flex_flow": null,
            "width": null,
            "min_width": null,
            "border": null,
            "align_items": null,
            "bottom": null,
            "_model_module": "@jupyter-widgets/base",
            "top": null,
            "grid_column": null,
            "overflow_y": null,
            "overflow_x": null,
            "grid_auto_flow": null,
            "grid_area": null,
            "grid_template_columns": null,
            "flex": null,
            "_model_name": "LayoutModel",
            "justify_items": null,
            "grid_row": null,
            "max_height": null,
            "align_content": null,
            "visibility": null,
            "align_self": null,
            "height": null,
            "min_height": null,
            "padding": null,
            "grid_auto_rows": null,
            "grid_gap": null,
            "max_width": null,
            "order": null,
            "_view_module_version": "1.2.0",
            "grid_template_areas": null,
            "object_position": null,
            "object_fit": null,
            "grid_auto_columns": null,
            "margin": null,
            "display": null,
            "left": null
          }
        },
        "38d50dacc7b64b8da78e28cda8d40db4": {
          "model_module": "@jupyter-widgets/controls",
          "model_name": "DescriptionStyleModel",
          "state": {
            "_view_name": "StyleView",
            "_model_name": "DescriptionStyleModel",
            "description_width": "",
            "_view_module": "@jupyter-widgets/base",
            "_model_module_version": "1.5.0",
            "_view_count": null,
            "_view_module_version": "1.2.0",
            "_model_module": "@jupyter-widgets/controls"
          }
        },
        "c230044d468346e4bcc8192555fc70c7": {
          "model_module": "@jupyter-widgets/base",
          "model_name": "LayoutModel",
          "state": {
            "_view_name": "LayoutView",
            "grid_template_rows": null,
            "right": null,
            "justify_content": null,
            "_view_module": "@jupyter-widgets/base",
            "overflow": null,
            "_model_module_version": "1.2.0",
            "_view_count": null,
            "flex_flow": null,
            "width": null,
            "min_width": null,
            "border": null,
            "align_items": null,
            "bottom": null,
            "_model_module": "@jupyter-widgets/base",
            "top": null,
            "grid_column": null,
            "overflow_y": null,
            "overflow_x": null,
            "grid_auto_flow": null,
            "grid_area": null,
            "grid_template_columns": null,
            "flex": null,
            "_model_name": "LayoutModel",
            "justify_items": null,
            "grid_row": null,
            "max_height": null,
            "align_content": null,
            "visibility": null,
            "align_self": null,
            "height": null,
            "min_height": null,
            "padding": null,
            "grid_auto_rows": null,
            "grid_gap": null,
            "max_width": null,
            "order": null,
            "_view_module_version": "1.2.0",
            "grid_template_areas": null,
            "object_position": null,
            "object_fit": null,
            "grid_auto_columns": null,
            "margin": null,
            "display": null,
            "left": null
          }
        },
        "f00b11c83aaf40eebd7f407be3d13e47": {
          "model_module": "@jupyter-widgets/controls",
          "model_name": "HBoxModel",
          "state": {
            "_view_name": "HBoxView",
            "_dom_classes": [],
            "_model_name": "HBoxModel",
            "_view_module": "@jupyter-widgets/controls",
            "_model_module_version": "1.5.0",
            "_view_count": null,
            "_view_module_version": "1.5.0",
            "box_style": "",
            "layout": "IPY_MODEL_ec87ef3bf76341899988eea46e0ea186",
            "_model_module": "@jupyter-widgets/controls",
            "children": [
              "IPY_MODEL_895fb858757f44e4bc848376b1dc1a8a",
              "IPY_MODEL_d7403d6bb25143559735bd89820b2db7"
            ]
          }
        },
        "ec87ef3bf76341899988eea46e0ea186": {
          "model_module": "@jupyter-widgets/base",
          "model_name": "LayoutModel",
          "state": {
            "_view_name": "LayoutView",
            "grid_template_rows": null,
            "right": null,
            "justify_content": null,
            "_view_module": "@jupyter-widgets/base",
            "overflow": null,
            "_model_module_version": "1.2.0",
            "_view_count": null,
            "flex_flow": null,
            "width": null,
            "min_width": null,
            "border": null,
            "align_items": null,
            "bottom": null,
            "_model_module": "@jupyter-widgets/base",
            "top": null,
            "grid_column": null,
            "overflow_y": null,
            "overflow_x": null,
            "grid_auto_flow": null,
            "grid_area": null,
            "grid_template_columns": null,
            "flex": null,
            "_model_name": "LayoutModel",
            "justify_items": null,
            "grid_row": null,
            "max_height": null,
            "align_content": null,
            "visibility": null,
            "align_self": null,
            "height": null,
            "min_height": null,
            "padding": null,
            "grid_auto_rows": null,
            "grid_gap": null,
            "max_width": null,
            "order": null,
            "_view_module_version": "1.2.0",
            "grid_template_areas": null,
            "object_position": null,
            "object_fit": null,
            "grid_auto_columns": null,
            "margin": null,
            "display": null,
            "left": null
          }
        },
        "895fb858757f44e4bc848376b1dc1a8a": {
          "model_module": "@jupyter-widgets/controls",
          "model_name": "FloatProgressModel",
          "state": {
            "_view_name": "ProgressView",
            "style": "IPY_MODEL_1d691a04dc9744b8aa3ba2d49b9cdda7",
            "_dom_classes": [],
            "description": "100%",
            "_model_name": "FloatProgressModel",
            "bar_style": "success",
            "max": 20000,
            "_view_module": "@jupyter-widgets/controls",
            "_model_module_version": "1.5.0",
            "value": 20000,
            "_view_count": null,
            "_view_module_version": "1.5.0",
            "orientation": "horizontal",
            "min": 0,
            "description_tooltip": null,
            "_model_module": "@jupyter-widgets/controls",
            "layout": "IPY_MODEL_d0f8e729fbbb4d598fb92515b2a898d8"
          }
        },
        "d7403d6bb25143559735bd89820b2db7": {
          "model_module": "@jupyter-widgets/controls",
          "model_name": "HTMLModel",
          "state": {
            "_view_name": "HTMLView",
            "style": "IPY_MODEL_22b0b12ff9414d6d863520b4c38faa2e",
            "_dom_classes": [],
            "description": "",
            "_model_name": "HTMLModel",
            "placeholder": "​",
            "_view_module": "@jupyter-widgets/controls",
            "_model_module_version": "1.5.0",
            "value": " 20000/20000 [07:16&lt;00:00, 45.84epochs/s, loss=-1.26]",
            "_view_count": null,
            "_view_module_version": "1.5.0",
            "description_tooltip": null,
            "_model_module": "@jupyter-widgets/controls",
            "layout": "IPY_MODEL_bf14508d51fa41c4b2a2f557c8e33489"
          }
        },
        "1d691a04dc9744b8aa3ba2d49b9cdda7": {
          "model_module": "@jupyter-widgets/controls",
          "model_name": "ProgressStyleModel",
          "state": {
            "_view_name": "StyleView",
            "_model_name": "ProgressStyleModel",
            "description_width": "initial",
            "_view_module": "@jupyter-widgets/base",
            "_model_module_version": "1.5.0",
            "_view_count": null,
            "_view_module_version": "1.2.0",
            "bar_color": null,
            "_model_module": "@jupyter-widgets/controls"
          }
        },
        "d0f8e729fbbb4d598fb92515b2a898d8": {
          "model_module": "@jupyter-widgets/base",
          "model_name": "LayoutModel",
          "state": {
            "_view_name": "LayoutView",
            "grid_template_rows": null,
            "right": null,
            "justify_content": null,
            "_view_module": "@jupyter-widgets/base",
            "overflow": null,
            "_model_module_version": "1.2.0",
            "_view_count": null,
            "flex_flow": null,
            "width": null,
            "min_width": null,
            "border": null,
            "align_items": null,
            "bottom": null,
            "_model_module": "@jupyter-widgets/base",
            "top": null,
            "grid_column": null,
            "overflow_y": null,
            "overflow_x": null,
            "grid_auto_flow": null,
            "grid_area": null,
            "grid_template_columns": null,
            "flex": null,
            "_model_name": "LayoutModel",
            "justify_items": null,
            "grid_row": null,
            "max_height": null,
            "align_content": null,
            "visibility": null,
            "align_self": null,
            "height": null,
            "min_height": null,
            "padding": null,
            "grid_auto_rows": null,
            "grid_gap": null,
            "max_width": null,
            "order": null,
            "_view_module_version": "1.2.0",
            "grid_template_areas": null,
            "object_position": null,
            "object_fit": null,
            "grid_auto_columns": null,
            "margin": null,
            "display": null,
            "left": null
          }
        },
        "22b0b12ff9414d6d863520b4c38faa2e": {
          "model_module": "@jupyter-widgets/controls",
          "model_name": "DescriptionStyleModel",
          "state": {
            "_view_name": "StyleView",
            "_model_name": "DescriptionStyleModel",
            "description_width": "",
            "_view_module": "@jupyter-widgets/base",
            "_model_module_version": "1.5.0",
            "_view_count": null,
            "_view_module_version": "1.2.0",
            "_model_module": "@jupyter-widgets/controls"
          }
        },
        "bf14508d51fa41c4b2a2f557c8e33489": {
          "model_module": "@jupyter-widgets/base",
          "model_name": "LayoutModel",
          "state": {
            "_view_name": "LayoutView",
            "grid_template_rows": null,
            "right": null,
            "justify_content": null,
            "_view_module": "@jupyter-widgets/base",
            "overflow": null,
            "_model_module_version": "1.2.0",
            "_view_count": null,
            "flex_flow": null,
            "width": null,
            "min_width": null,
            "border": null,
            "align_items": null,
            "bottom": null,
            "_model_module": "@jupyter-widgets/base",
            "top": null,
            "grid_column": null,
            "overflow_y": null,
            "overflow_x": null,
            "grid_auto_flow": null,
            "grid_area": null,
            "grid_template_columns": null,
            "flex": null,
            "_model_name": "LayoutModel",
            "justify_items": null,
            "grid_row": null,
            "max_height": null,
            "align_content": null,
            "visibility": null,
            "align_self": null,
            "height": null,
            "min_height": null,
            "padding": null,
            "grid_auto_rows": null,
            "grid_gap": null,
            "max_width": null,
            "order": null,
            "_view_module_version": "1.2.0",
            "grid_template_areas": null,
            "object_position": null,
            "object_fit": null,
            "grid_auto_columns": null,
            "margin": null,
            "display": null,
            "left": null
          }
        }
      }
    }
  },
  "cells": [
    {
      "cell_type": "markdown",
      "metadata": {
        "id": "view-in-github",
        "colab_type": "text"
      },
      "source": [
        "<a href=\"https://colab.research.google.com/github/GianluigiSilvestri/asvi/blob/master/asvi.ipynb\" target=\"_parent\"><img src=\"https://colab.research.google.com/assets/colab-badge.svg\" alt=\"Open In Colab\"/></a>"
      ]
    },
    {
      "cell_type": "markdown",
      "metadata": {
        "id": "oU96xYmuJv_2"
      },
      "source": [
        "# Automatic Structured Variational Inference"
      ]
    },
    {
      "cell_type": "markdown",
      "metadata": {
        "id": "61OZVyFoJ_Rl"
      },
      "source": [
        "In this notebook, I will explain the Automatic Structured Variational Inference (ASVI) method [[1]](#asvi), providing also a comparison with the widely used mean field approximation (MF) (as proposed in [[2]](#advi)).\n",
        "\n",
        "I will start with an introduction of the difficulties arising when using probabilistic programming in practice, followed by a description of MF and its limitations. I will then move to the description of ASVI and its advantages.\n",
        "\n",
        "All the steps will be followed by a Pytorch implementation, with a comparison of the performances of MF and ASVI on the problems of Brownian motion smoothing and Brownian motion bridge.\n",
        "\n",
        "**NOTE**: The description and code provided here are meant to be simple and intuitive, to help understand the main concepts. The more detailed and rigorous explanation can be found in the ASVI paper [[1]](#asvi), and an official TensorFlow Probability implementation is available [here](https://www.tensorflow.org/probability/api_docs/python/tfp/experimental/vi/build_asvi_surrogate_posterior). "
      ]
    },
    {
      "cell_type": "markdown",
      "metadata": {
        "id": "Co4hCKoNMMnP"
      },
      "source": [
        "## 1 - Introduction"
      ]
    },
    {
      "cell_type": "markdown",
      "metadata": {
        "id": "MUslS4CWMMrC"
      },
      "source": [
        "With the recent developments of Variational Inference and the availability of libraries which allow to use automatic differentiation (such as TensorFlow and PyTorch), it is now possible to easily implement gradient based automatic differentiation stochastic\n",
        "variational inference and use it on big datasets with high-dimensional models.\n",
        "\n",
        "However, it is still required to choose an appropriate variational distribution.\n",
        "\n",
        "Given a multidimensional prior distribution $p(z_1,...,z_M)$ with a set of latent variables $z_1,...,z_M$, it is complicated to design a multivariate posterior distribution.\n",
        "The most common approach, and perhaps the easiest to use, is the so-called mean-field approximation: you simply assume that all the latent variables are statistically independent, rewriting the multivariate posterior $q(z_1,...,z_M)$ as: \n",
        "$$q(z_1,...,z_M) = \\prod_m^Mq_m(z_m)$$\n",
        "MF works well only when the latent variables are not correlated (which is not always the case), otherwise can underestimate the true variance.\n",
        "\n",
        "Several approaches have been proposed to overcome the limitations of MF, while trying to remain as simple and as efficient. Some of these approaches are, for example, [[3]](#cvi), [[4]](#ssvi) and [[5]](#hvi), which despite being able to capture dependencies between latent variables, they require additional design, longer computation, and are limited to specific variational families.\n",
        "\n",
        "A different solution is proposed in ASVI, where a structured variational faimily is authomatically constructed from the prior. Therefore, ASVI requires only to specify the likelihood and prior distributions, and does not require specific gradient estimators or  ad-hoc variational lower bounds."
      ]
    },
    {
      "cell_type": "markdown",
      "metadata": {
        "id": "dKHA59MZMMvx"
      },
      "source": [
        "## 2 - ASVI and the convex-update variational families"
      ]
    },
    {
      "cell_type": "markdown",
      "metadata": {
        "id": "XA6konD6QkrQ"
      },
      "source": [
        "The main innovation of ASVI is the introduction of convex-update variational families. Before explaining the details, let's first quickly review the concept of conjugate prior."
      ]
    },
    {
      "cell_type": "markdown",
      "metadata": {
        "id": "1tFdHK9Q1bKb"
      },
      "source": [
        "### 2.1 - Closed-form update with conjugate priors"
      ]
    },
    {
      "cell_type": "markdown",
      "metadata": {
        "id": "XhO8aeBnMMy-"
      },
      "source": [
        "When the likelihood function is multiplied by the prior, if the prior distribution is conjugate to the likelihood, then the posterior distribution will have the same distribution as the prior. If the likelihood belongs to the exponential family, and the prior is conjugate, then we can compute the expectation parameters of the posterior distribution with a convex combination of the prior parameters and the maximum likelihood estimators: $$\\mathbf{\\bar{\\mu}} = \\mathbf{\\lambda}\\odot\\mathbf{\\bar{\\mu_0}}+(1-\\mathbf{\\lambda})\\odot\\mathbf{\\mu_{ML}}$$ with $\\mathbf{\\bar{\\mu_0}}$ the prior expectations, $\\mathbf{\\lambda}$ a vector of convex combination coefficients, $\\odot$ the element-wise product and $\\mathbf{\\mu_{ML}}$ the maximum likelihood estimators.\n",
        "\n",
        "An example is the mean update for a monodimensional Gaussian likelihood with precision $\\tau$ over $N$ independely sampled datapoints $y_n$ and a monodimensional Gaussian prior over the mean with mean $\\mu_0$ and precision $\\tau_0$. The posterior mean can be computed with the following update: $$\\mu = \\frac{\\tau_0}{\\tau_0 + N\\tau}\\mu_0 + \\frac{N\\tau}{\\tau_0+N\\tau}\\left(\\frac{1}{N}\\sum_{n=1}^Ny_n\\right),$$ with $y_n$ the data points.\n",
        "The posterior mean becomes an interpolation between the maximum likelihood mean and the prior mean. If $N$ is small, the influence of the prior on the posterior will be big, since we cannot trust the data too much, while if $N$ is big then the data is a reliable source of information, and the prior will have almost no influence."
      ]
    },
    {
      "cell_type": "markdown",
      "metadata": {
        "id": "hs4dY0yHMM2G"
      },
      "source": [
        "### 2.2 - Convex-update variational families"
      ]
    },
    {
      "cell_type": "markdown",
      "metadata": {
        "id": "K0liEJTiQkd7"
      },
      "source": [
        "The convex-update variatiomal families are inspired by the conjugate parameter update in the exponential family, and are applicable also to models where likelihood and priors are not in the exponential family and where the prior is not conjugate (otherwise, we would not need it).\n",
        "\n",
        "Let's consider a prbabilistic model with a prior $p(x\\mid\\mathbf{\\theta})$ parametrized by the vector of parameters $\\mathbf{\\theta}$. Then, the convex-update posterior is defined as: $$q(x; \\mathbf{\\lambda},\\mathbf{\\alpha})=p(x\\mid\\mathbf{\\lambda}\\odot\\mathbf{\\theta}+(1-\\mathbf{\\lambda})\\odot\\mathbf{\\alpha}),$$\n",
        "\n",
        "where $\\mathbf{\\theta}$ is the vector of (fixed) parameters of the prior, $\\mathbf{\\alpha}$ hs the same dimensionality of $\\mathbf{\\theta}$ and is a vector of learnable parameters which will have to mimic the behavior of the maximum likelihood estimators in the cojugate update, and $\\mathbf{\\lambda}$ is a vector of learnable parameters which will be used as the coefficients for the convex combination update (therefore restricted to be between 0 and 1)."
      ]
    },
    {
      "cell_type": "markdown",
      "metadata": {
        "id": "ZJeMNX8UMM5U"
      },
      "source": [
        "### 2.3 ASVI"
      ]
    },
    {
      "cell_type": "markdown",
      "metadata": {
        "id": "nj7M8Aj6MM91"
      },
      "source": [
        "With the pseudo-conjugate variational family, using ASVI is as simple as using the Mean Field approach, but instead of assuming independence between latent variables, ASVI will authomatically include the structure of the prior, without additional design choice or ad-hoc computation of the gradients and variational lower bound. Moreover, ASVI only doubles the number of parameters required: if MF needs $P$ parameters (dimensionality if $\\mathbf{\\theta}$), then ASVI will require $2P$ parameters. The rest of the algorithm is exactly like MF.\n",
        "\n",
        "In the extreme cases, ASVI can recover the exact prior by setting all the $\\mathbf{\\lambda}$ to 1, or be the same as MF by setting all the $\\mathbf{\\lambda}$ to 0.\n",
        "\n",
        "Using the structure of the prior for the variational approximation is a great improvement over standard MF, since it does not add any complications and keeps the number of parameters low. However, it comes with the limitation that the posterior cannot capture dependencies that are not included in the prior."
      ]
    },
    {
      "cell_type": "markdown",
      "metadata": {
        "id": "Jo0AB9C_MNBZ"
      },
      "source": [
        "## 3 - A practical example"
      ]
    },
    {
      "cell_type": "markdown",
      "metadata": {
        "id": "ArjANA2YMNEm"
      },
      "source": [
        "To show the advantages of ASVI, we will now compare its performances with MF on two simple problems: the Brownian smoothing and the Brownian bridge. We will start, as usual, by importing the necessary python libraries."
      ]
    },
    {
      "cell_type": "code",
      "metadata": {
        "id": "SBpfUnK_mkgp"
      },
      "source": [
        "import matplotlib.pyplot as plt\n",
        "import numpy as np\n",
        "from tqdm.notebook import tqdm\n",
        "import torch\n",
        "import torch.nn as nn\n",
        "from torch.distributions import Normal\n",
        "import torch.nn.functional as F\n",
        "from time import sleep\n",
        "\n",
        "plt.style.use('seaborn')"
      ],
      "execution_count": 1,
      "outputs": []
    },
    {
      "cell_type": "markdown",
      "metadata": {
        "id": "IsnqsvspOU1T"
      },
      "source": [
        "Plot function"
      ]
    },
    {
      "cell_type": "code",
      "metadata": {
        "id": "IwutGe3YKPXp"
      },
      "source": [
        "def plot_results(model, data, truth, title=None, bridge=None):\n",
        "    T = len(truth)\n",
        "    samples = model.sample(100)\n",
        "    mus = samples.mean(0).detach().numpy()\n",
        "    std = samples.std(0).detach().numpy()\n",
        "\n",
        "    # plot samples from the posterior\n",
        "    for sample in samples:\n",
        "        plt.plot(sample.detach().numpy(), linewidth=0.3)\n",
        "        \n",
        "    plt.plot(mus, label='posterior', c='blue')\n",
        "    plt.fill_between(np.arange(T), mus - std, mus + std, alpha=.4)\n",
        "    if bridge:\n",
        "        plt.plot(range(bridge), data[0], label='observed', c='r')\n",
        "        plt.plot(range(T-bridge,T,1), data[1], c='r')\n",
        "    else:\n",
        "        plt.plot(data, label='observed', c='red')\n",
        "    plt.plot(bm.x, label='true', c='green')\n",
        "    plt.legend()\n",
        "    if title:\n",
        "        plt.title(title)"
      ],
      "execution_count": 2,
      "outputs": []
    },
    {
      "cell_type": "markdown",
      "metadata": {
        "id": "xTvmVYytOWiI"
      },
      "source": [
        "Training function"
      ]
    },
    {
      "cell_type": "code",
      "metadata": {
        "id": "-ELYphjBOY3r"
      },
      "source": [
        "def train_model(model, data):\n",
        "    '''\n",
        "    requires a model, either ASVI or MF as defined above,\n",
        "    and the noisy time series\n",
        "    '''\n",
        "    optimizer = torch.optim.Adam(model.parameters(), lr=.001)\n",
        "    losses = np.array([])\n",
        "    with tqdm(range(EPOCHS), unit=\"epochs\") as tepoch:\n",
        "\n",
        "        for epoch in tepoch:\n",
        "\n",
        "            optimizer.zero_grad()\n",
        "\n",
        "            # sample latent variables\n",
        "            z = model.sample()\n",
        "\n",
        "            # minimize negative elbo\n",
        "            loss = -model.elbo(z, data).mean()\n",
        "\n",
        "            loss.backward()\n",
        "            optimizer.step()\n",
        "            \n",
        "            losses = np.append(losses,loss.item())\n",
        "            \n",
        "            # display mean loss for last 50 epochs every 50 epochs\n",
        "            if (epoch+1)%50==0:\n",
        "                tepoch.set_postfix(loss=losses[-50:].mean())\n",
        "                \n",
        "    return model"
      ],
      "execution_count": 3,
      "outputs": []
    },
    {
      "cell_type": "markdown",
      "metadata": {
        "id": "tPFY_MCZMNIL"
      },
      "source": [
        "### 3.1 - Brownian motion"
      ]
    },
    {
      "cell_type": "markdown",
      "metadata": {
        "id": "cHrqjqhWMNLc"
      },
      "source": [
        "In this problem, we will observe a process over $T$ time steps, which will form a time series $y_0,...,y_{T-1}$ denoted as $\\mathbf{y}$. The probability distribution of $y_0$ is a Gaussian distribution centered in 0 and with standard deviation $\\sigma$: $$y_0 \\sim \\mathcal{N}(0, \\sigma^2).$$\n",
        "For the remaining time steps, the mean is centered on the point sampled at the previous step, and the standard deviation remains the same: $$y_t \\sim \\mathcal{N}(y_{t-1}, \\sigma^2).$$ The probabilitiy of the whole series can be written as: $$p(\\mathbf{y})=p(y_0)\\prod_{t=1}^{T-1}p(y_t\\mid y_{t-1}).$$\n",
        "\n",
        "It is easy to see how each time step is conditioned on the previous one, which makes the means of consecutive time steps correlated.\n",
        "\n",
        "In the smoothing problem, we will not have access to the real time series, but rather to noisy observations. Therefore, the actual series that we will use is obtained by sampling from each point with a small standard deviation. The goal is to recover the original time series given the noisy observation.\n",
        "\n",
        "In the bridge problem, similarly to the smoothing case, we will have access to the noisy obesrvation, but only to the initial and final parts. The goal is, again, to recover the original time series (but this time, we have no clue what happened in the intermediate time steps).\n",
        "\n",
        "The class used to generate the data is shown below.\n",
        "\n",
        "_**Note 1:**_ there is a parameter $dt$, which represent the fact that this process is a discretization of a continuous-time process, using the Euler-Maruyama method.\n",
        "\n",
        "_**Note 2:**_ When you see in text something like $x \\sim \\mathcal{N}(a,b)$, $b$ refers to the variance $\\sigma^2$ of the Gaussian distribution. However, in most of the python libraries (also in PyTorch), if you sample from a normal distribution `torch.normal(a, b)`, then b refers to the standard deviation $\\sigma$. Make sure to keep an eye on this and to do the right converisons from papers to code.\n"
      ]
    },
    {
      "cell_type": "code",
      "metadata": {
        "id": "3REzxj9h2e6o"
      },
      "source": [
        "class BrownianMotion():\n",
        "    '''\n",
        "    Class to generate a Brownian motion.\n",
        "    self.x will contain the ground truth,\n",
        "    while self.obs will be the noisy observation\n",
        "    '''\n",
        "    def __init__(self, T=40, dt=0.01):\n",
        "        '''\n",
        "        T is the total lenght of the time series\n",
        "        dt is the time step approximation\n",
        "        '''\n",
        "        self.T = T\n",
        "        self.dt = dt\n",
        "        self.x = self._gen()\n",
        "        self.obs = self._gen_noisy()\n",
        "\n",
        "    def _gen(self):\n",
        "        '''\n",
        "        generates ground truth time series of lenght 40, with std = 1\n",
        "        in the discratization, the std has to be multiplied by sqrt(dt)\n",
        "        '''\n",
        "        x = [0]\n",
        "        for t in range(self.T - 1):\n",
        "            x.append(x[-1] + np.sqrt(self.dt) * np.random.normal(0, 1))\n",
        "        return x\n",
        "\n",
        "    def _gen_noisy(self):\n",
        "        '''\n",
        "        generates noisy observations, centered on ground truth and with std = 0.15\n",
        "        '''\n",
        "        x = []\n",
        "        for i in self.x:\n",
        "            x.append(i + np.random.normal(0, 0.15))\n",
        "        return x\n",
        "\n",
        "    def get_obs(self):\n",
        "        '''\n",
        "        returns the noisy time series, for smoothing\n",
        "        '''\n",
        "        return torch.tensor(self.obs)\n",
        "\n",
        "    def get_obs_bridge(self, t=10):\n",
        "        '''\n",
        "        returns only the first and last t steps of the noisy time series,\n",
        "        for bridge\n",
        "        '''\n",
        "        return torch.tensor(self.obs[:t]), torch.tensor(self.obs[-t:])"
      ],
      "execution_count": 4,
      "outputs": []
    },
    {
      "cell_type": "markdown",
      "metadata": {
        "id": "8eTG1tlEMNOc"
      },
      "source": [
        "### 3.2 - Mean Field and ASVI models"
      ]
    },
    {
      "cell_type": "markdown",
      "metadata": {
        "id": "RrRamjzXMNR7"
      },
      "source": [
        "It's time for the implementation of the models! Let's start from the Mean Field, since ASVI can be obtained as a simple extension.\n",
        "\n",
        "Our model has a latent variable $z_t$ for each time step. We will assume that the standard deviation is known and will try to estimate a Gaussian posterior for the mean parameter, parametrized by $\\mathbf{\\phi}$, which in our case consists of $(\\phi_{\\mu,t}, \\phi_{\\sigma,t}),\\; \\forall t \\in [0,T-1]$. We can sample from the variational parameters in a differentiable way by using the  reparametrization trick, which is already implemented in PyTorch with the method `rsample()`. For Gaussian distribution, it can be formalized as $$\\mathcal{f}_{\\phi,t}(\\epsilon)=SP(\\phi_{\\sigma,t})\\epsilon+\\phi_{\\mu,t},\\;\\epsilon\\sim\\mathcal{N}(0,1),$$\n",
        "\n",
        "where $SP(\\cdot)$ is the softplus function, which allows us to optimize $\\phi_\\sigma$ on all the real values (note that the standard deviation has to be $>0$.\n",
        "\n",
        "The likelihood can be defined as: $$\\prod_{t=0}^{T-1}p(x_t\\mid z_t)$$, where $x_t$ are the noisy observation with standard devation $\\sigma_{n}=0.15$, and $p(x_t\\mid z_t) = N(x_t\\mid z_t, \\sigma_n^2)$.\n",
        "\n",
        "Given the nature of the problem, it is reaonable to use as prior for each time step a Gaussian distribution centered on the previous observation in the time series. Therefore, the prior at each time step can be defined as: $$p(z_t\\mid z_{t-1})=\\mathcal{N}(z_{t-1}, \\sigma_t),$$ with $\\sigma_t=1 * \\sqrt{dt} = 0.1$. The total prior can be obtained as product of each prior, using $p(z_0)=\\mathcal{N(z_0\\mid 0,0.1)}$.\n",
        "\n",
        "For the posterior, using the mean-field approximation, each latent variable is considered as independent. Therefore, the total posterior is: $$\\prod_{t=0}^{T-1}p(z_t\\mid\\phi)=\\prod_{t=0}^{T-1}\\mathcal{N}(z_t\\mid\\phi_{\\mu,t}, SP(\\phi_{\\sigma,t}))$$"
      ]
    },
    {
      "cell_type": "code",
      "metadata": {
        "id": "Db0QSaLrkEt_"
      },
      "source": [
        "class MeanFeald(nn.Module):\n",
        "    def __init__(self, T, bridge_t=None):\n",
        "        super(MeanFeald, self).__init__()\n",
        "        self.T = T\n",
        "        self.phi = nn.Parameter(torch.tensor(torch.randn(T, 2), requires_grad=True))\n",
        "\n",
        "        # should be < T/2\n",
        "        self.b_t = bridge_t # used for bridge problem, first and last t observed\n",
        "\n",
        "    def sample(self, n=50):\n",
        "        '''\n",
        "        sample n series of length T of latent variables\n",
        "        shape --> n x T\n",
        "        '''\n",
        "        return Normal(self.phi[:, 0], F.softplus(self.phi[:, 1])).rsample([n])\n",
        "\n",
        "    def log_lik(self, z, data):\n",
        "        '''\n",
        "        log likelihood function\n",
        "        '''\n",
        "        if self.b_t:\n",
        "            p0 = Normal(z[:,:self.b_t], 0.15).log_prob(data[0])\n",
        "            p1 = Normal(z[:,-self.b_t:], 0.15).log_prob(data[1])\n",
        "            ll = torch.cat((p0,p1),1).sum(1)\n",
        "        else:\n",
        "            # sum over T (axis 1), return tensor of size n\n",
        "            ll = Normal(z, 0.15).log_prob(data).sum(1)\n",
        "\n",
        "        return ll\n",
        "\n",
        "    def log_prior(self, z):\n",
        "        \n",
        "        # at t=0, prior is N(z_0 | 0,0.1)\n",
        "        lp0 = Normal(0, 0.1).log_prob(z[:,0]).unsqueeze(1)\n",
        "\n",
        "        # for other t, prior is N(z_t | z_(t-1), 0.1)\n",
        "        lpn = Normal(z[:,:-1], 0.1).log_prob(z[:,1:])\n",
        "\n",
        "        # concatenate the two tensors and sum over T (axis 1)\n",
        "        lp = torch.cat([lp0,lpn],dim=1).sum(1)\n",
        "\n",
        "        return lp\n",
        "\n",
        "    def log_q(self, z):\n",
        "        ''' log probability of approximated posterior'''\n",
        "        lq = Normal(self.phi[:,0], F.softplus(self.phi[:,1])).log_prob(z).sum(1)\n",
        "        return lq\n",
        "\n",
        "    def elbo(self, z, data):\n",
        "        '''\n",
        "        elbo function --> likelihood + prior - approximate posterior q\n",
        "        z: sampled latent variables\n",
        "        data: noisy observation from time series\n",
        "        '''\n",
        "        return self.log_lik(z, data) + self.log_prior(z) - self.log_q(z)"
      ],
      "execution_count": 5,
      "outputs": []
    },
    {
      "cell_type": "markdown",
      "metadata": {
        "id": "xs8Fd7TOMNXa"
      },
      "source": [
        "Alright! Now that MF is implemented, we can literally copy-paste the code, change a few things, and have ASVI ready to run!\n",
        "\n",
        "As mentioned earlier, the convex-update family combines the prior parameters with learnable parameters $\\lambda$ and $\\alpha$. This will allow us to include our knowledge about the model, i.e. that $z_t$ is correlated to $z_{t-1}$. Therefore, we need to redefine $\\mathbf{\\phi}$ as: $$\\mathbf{\\phi}=\\mathbf{\\lambda}\\odot\\mathbf{\\theta}+(1-\\mathbf{\\lambda})\\odot\\mathbf{\\alpha},$$ with $\\theta$ being the $T$-dimensinal prior tensor, and $\\lambda$ and $\\alpha$ having the same dimensionality.\n",
        "\n",
        "The sampling of the latent variables can now be performed as before, but this time sequentially, since the prior at each time step is dependent on the latent variable at the previous time step (which needs to be sampled first!). The posterior computation remains the same, but using the new definition of $\\mathbf{\\phi}$."
      ]
    },
    {
      "cell_type": "code",
      "metadata": {
        "id": "igWsW9KTuCgZ"
      },
      "source": [
        "def convex_update(theta, lambd, alpha):\n",
        "    return theta*torch.sigmoid(lambd) + (1-torch.sigmoid(lambd))*alpha\n",
        "\n",
        "class ASVI(nn.Module):\n",
        "    def __init__(self, T, bridge_t=None):\n",
        "        super(ASVI, self).__init__()\n",
        "        self.T = T\n",
        "\n",
        "         # should be < T/2\n",
        "        self.b_t = bridge_t # used for bridge problem, first and last t observed\n",
        "\n",
        "        self.lambd = nn.Parameter(torch.tensor(torch.randn(T,2), requires_grad=True))\n",
        "        self.alpha = nn.Parameter(torch.tensor(torch.randn(T,2), requires_grad=True))\n",
        "\n",
        "        self.pm0 = torch.tensor([0]) # prior mean at t=0\n",
        "\n",
        "        # we use log std for the convex update,\n",
        "        # since we need to guarantee that the update is > 0\n",
        "        # so we still use softplus afterwards\n",
        "        self.log_ps = torch.log(torch.tensor([0.1])) # log of prior std, same for all t\n",
        "\n",
        "    def sample(self, n=50):\n",
        "        '''\n",
        "        sample n series of length T of latent variables\n",
        "        shape --> n x T\n",
        "        '''\n",
        "\n",
        "        # compute posterior mean and log_std for t=0 \n",
        "        mean = convex_update(self.pm0, self.lambd[0,0], self.alpha[0,0])\n",
        "        std = convex_update(self.log_ps, self.lambd[0,1], self.alpha[0,1])\n",
        "\n",
        "        # sample latent variable for t=0\n",
        "        z = [Normal(mean, F.softplus(std)).rsample([n]).unsqueeze(1)]\n",
        "\n",
        "        # repeat for the remainig time steps\n",
        "        for t in range(1, self.T):\n",
        "            \n",
        "            # here the prior mean is in z[t-1] (last element of the list)\n",
        "            mean = convex_update(z[-1], self.lambd[t,0], self.alpha[t,0])\n",
        "            std = convex_update(self.log_ps, self.lambd[t,1], self.alpha[t,1])\n",
        "\n",
        "            # this time we don't need to specify n \n",
        "            # since the tensor has already size (n,)\n",
        "            z.append(Normal(mean, F.softplus(std)).rsample())\n",
        "\n",
        "        return torch.cat(z,1).squeeze()\n",
        "\n",
        "    def log_lik(self, z, data):\n",
        "        '''\n",
        "        log likelihood function\n",
        "        '''\n",
        "        if self.b_t:\n",
        "            p0 = Normal(z[:,:self.b_t], 0.15).log_prob(data[0])\n",
        "            p1 = Normal(z[:,-self.b_t:], 0.15).log_prob(data[1])\n",
        "            ll = torch.cat((p0,p1),1).sum(1)\n",
        "        else:\n",
        "            # sum over T (axis 1), return tensor of size n\n",
        "            ll = Normal(z, 0.15).log_prob(data).sum(1)\n",
        "\n",
        "        return ll\n",
        "\n",
        "    def log_prior(self, z):\n",
        "        \n",
        "        # at t=0, prior is N(z_0 | 0,0.1)\n",
        "        lp0 = Normal(0, 0.1).log_prob(z[:,0]).unsqueeze(1)\n",
        "\n",
        "        # for other t, prior is N(z_t | z_(t-1), 0.1)\n",
        "        lpn = Normal(z[:,:-1], 0.1).log_prob(z[:,1:])\n",
        "\n",
        "        # concatenate the two tensors and sum over T (axis 1)\n",
        "        lp = torch.cat([lp0,lpn],dim=1).sum(1)\n",
        "\n",
        "        return lp\n",
        "\n",
        "    def log_q(self, z):\n",
        "        ''' log probability of approximated posterior'''\n",
        "\n",
        "        # the prior mean is [0, z0, z1, .., z_(t-1)]\n",
        "        prior_mean = self.pm0.repeat(z.shape[0]).unsqueeze(1)\n",
        "        prior_mean = torch.cat((prior_mean, z), 1)[:,:-1]\n",
        "\n",
        "        q_mean = convex_update(prior_mean, self.lambd[:,0], self.alpha[:,0])\n",
        "        q_std = convex_update(self.log_ps, self.lambd[:,1], self.alpha[:,1])\n",
        "        \n",
        "        lq = Normal(q_mean, F.softplus(q_std)).log_prob(z).sum(1)\n",
        "        return lq\n",
        "\n",
        "    def elbo(self, z, data):\n",
        "        '''\n",
        "        elbo function --> likelihood + prior - approximate posterior q\n",
        "        z: sampled latent variables\n",
        "        data: noisy observation from time series\n",
        "        '''\n",
        "        return self.log_lik(z, data) + self.log_prior(z) - self.log_q(z)"
      ],
      "execution_count": 6,
      "outputs": []
    },
    {
      "cell_type": "markdown",
      "metadata": {
        "id": "WEj7jsx2MNbk"
      },
      "source": [
        "### 3.3 - MF and ASVI for Brownian Smoothing"
      ]
    },
    {
      "cell_type": "code",
      "metadata": {
        "id": "A93gu86i3cnU"
      },
      "source": [
        "EPOCHS = 20000\n",
        "T = 40  # number of time steps\n",
        "dt = 0.01 \n",
        "bm = BrownianMotion(T=T, dt=dt)\n",
        "data = bm.get_obs()\n",
        "bridge_data = bm.get_obs_bridge()"
      ],
      "execution_count": 7,
      "outputs": []
    },
    {
      "cell_type": "code",
      "metadata": {
        "colab": {
          "base_uri": "https://localhost:8080/",
          "height": 119,
          "referenced_widgets": [
            "031c8f5db64b4879aca214a3b2645dc8",
            "df54cdcba0eb40e0be5ad5efef076094",
            "e44611a93c6940ca90b0cc0d9b5be992",
            "dda7f135c734457a9a82696da58f7dc3",
            "8a20ebc658a44f7b92604845e565d6c4",
            "88534f25c39040beae37882fba62faaf",
            "2bcbbf8e42094803ac51af96760b5658",
            "c2da637d321a47098e29a4fef7931b73"
          ]
        },
        "id": "J9gqaqxu3n4e",
        "outputId": "e46abfa4-da1e-4539-8136-e05b1d5316f8"
      },
      "source": [
        "mf_smoothing = train_model(MeanFeald(T), data)"
      ],
      "execution_count": 8,
      "outputs": [
        {
          "output_type": "stream",
          "text": [
            "/usr/local/lib/python3.6/dist-packages/ipykernel_launcher.py:5: UserWarning: To copy construct from a tensor, it is recommended to use sourceTensor.clone().detach() or sourceTensor.clone().detach().requires_grad_(True), rather than torch.tensor(sourceTensor).\n",
            "  \"\"\"\n"
          ],
          "name": "stderr"
        },
        {
          "output_type": "display_data",
          "data": {
            "application/vnd.jupyter.widget-view+json": {
              "model_id": "031c8f5db64b4879aca214a3b2645dc8",
              "version_minor": 0,
              "version_major": 2
            },
            "text/plain": [
              "HBox(children=(FloatProgress(value=0.0, max=20000.0), HTML(value='')))"
            ]
          },
          "metadata": {
            "tags": []
          }
        },
        {
          "output_type": "stream",
          "text": [
            "\n"
          ],
          "name": "stdout"
        }
      ]
    },
    {
      "cell_type": "code",
      "metadata": {
        "colab": {
          "base_uri": "https://localhost:8080/",
          "height": 153,
          "referenced_widgets": [
            "42bf23f55fa34da89da65917dcd31afa",
            "7e585ffe06d84f7f8b6d04c48113c85c",
            "bac8608076374da3912527fb8d28b20a",
            "563c0879bd6c40bfbc0569017a4118d7",
            "8724434ae52e42dd97ad8fe32bc19836",
            "9ecf2990686a4ec8893344dd4ff33446",
            "bba8dcc6f26f4aa09e8010f1f8f750b1",
            "3fbecdfc623c464bbef05ba817e0ed42"
          ]
        },
        "id": "8UXWx_-ZBS-a",
        "outputId": "c7460646-e919-4113-f651-d97610faa8dc"
      },
      "source": [
        "asvi_smoothing = train_model(ASVI(T), data)"
      ],
      "execution_count": 9,
      "outputs": [
        {
          "output_type": "stream",
          "text": [
            "/usr/local/lib/python3.6/dist-packages/ipykernel_launcher.py:12: UserWarning: To copy construct from a tensor, it is recommended to use sourceTensor.clone().detach() or sourceTensor.clone().detach().requires_grad_(True), rather than torch.tensor(sourceTensor).\n",
            "  if sys.path[0] == '':\n",
            "/usr/local/lib/python3.6/dist-packages/ipykernel_launcher.py:13: UserWarning: To copy construct from a tensor, it is recommended to use sourceTensor.clone().detach() or sourceTensor.clone().detach().requires_grad_(True), rather than torch.tensor(sourceTensor).\n",
            "  del sys.path[0]\n"
          ],
          "name": "stderr"
        },
        {
          "output_type": "display_data",
          "data": {
            "application/vnd.jupyter.widget-view+json": {
              "model_id": "42bf23f55fa34da89da65917dcd31afa",
              "version_minor": 0,
              "version_major": 2
            },
            "text/plain": [
              "HBox(children=(FloatProgress(value=0.0, max=20000.0), HTML(value='')))"
            ]
          },
          "metadata": {
            "tags": []
          }
        },
        {
          "output_type": "stream",
          "text": [
            "\n"
          ],
          "name": "stdout"
        }
      ]
    },
    {
      "cell_type": "code",
      "metadata": {
        "colab": {
          "base_uri": "https://localhost:8080/",
          "height": 280
        },
        "id": "_3bdQ9q-ESVd",
        "outputId": "1a43b28c-14ae-413a-c073-500f3f4a1b9b"
      },
      "source": [
        "fig = plt.figure()\n",
        "\n",
        "plt.subplot(2, 1, 1)\n",
        "plot_results(mf_smoothing, data, bm.x, 'MF')\n",
        "\n",
        "plt.subplot(2, 1, 2)\n",
        "plot_results(asvi_smoothing, data, bm.x, 'ASVI')\n",
        "\n",
        "plt.show()"
      ],
      "execution_count": 10,
      "outputs": [
        {
          "output_type": "display_data",
          "data": {
            "image/png": "[encoded data removed]",
            "text/plain": [
              "<Figure size 432x288 with 2 Axes>"
            ]
          },
          "metadata": {
            "tags": [],
            "needs_background": "light"
          }
        }
      ]
    },
    {
      "cell_type": "markdown",
      "metadata": {
        "id": "7wXzlJjkGaMk"
      },
      "source": [
        "### 3.4 - MF and ASVI for Brownian Bridge"
      ]
    },
    {
      "cell_type": "code",
      "metadata": {
        "colab": {
          "base_uri": "https://localhost:8080/",
          "height": 119,
          "referenced_widgets": [
            "f3acd73e21424da69dd1924f087e7aba",
            "5993faa197814a1bbcc7c541b4bd34c9",
            "13f22c52abc340d9aba15067bd668d7a",
            "6a47df2d70304c5db641d39fa286f023",
            "1f075e24c21d45aeafeea17230979c27",
            "0b0eed9295db4122b6754b0c6fc50ed9",
            "38d50dacc7b64b8da78e28cda8d40db4",
            "c230044d468346e4bcc8192555fc70c7"
          ]
        },
        "id": "OU2JMHCpMjUI",
        "outputId": "6f796b59-305c-4277-a83c-1de91349d404"
      },
      "source": [
        "mf_bridge = train_model(MeanFeald(T=T, bridge_t=10), bridge_data)"
      ],
      "execution_count": 11,
      "outputs": [
        {
          "output_type": "stream",
          "text": [
            "/usr/local/lib/python3.6/dist-packages/ipykernel_launcher.py:5: UserWarning: To copy construct from a tensor, it is recommended to use sourceTensor.clone().detach() or sourceTensor.clone().detach().requires_grad_(True), rather than torch.tensor(sourceTensor).\n",
            "  \"\"\"\n"
          ],
          "name": "stderr"
        },
        {
          "output_type": "display_data",
          "data": {
            "application/vnd.jupyter.widget-view+json": {
              "model_id": "f3acd73e21424da69dd1924f087e7aba",
              "version_minor": 0,
              "version_major": 2
            },
            "text/plain": [
              "HBox(children=(FloatProgress(value=0.0, max=20000.0), HTML(value='')))"
            ]
          },
          "metadata": {
            "tags": []
          }
        },
        {
          "output_type": "stream",
          "text": [
            "\n"
          ],
          "name": "stdout"
        }
      ]
    },
    {
      "cell_type": "code",
      "metadata": {
        "colab": {
          "base_uri": "https://localhost:8080/",
          "height": 153,
          "referenced_widgets": [
            "f00b11c83aaf40eebd7f407be3d13e47",
            "ec87ef3bf76341899988eea46e0ea186",
            "895fb858757f44e4bc848376b1dc1a8a",
            "d7403d6bb25143559735bd89820b2db7",
            "1d691a04dc9744b8aa3ba2d49b9cdda7",
            "d0f8e729fbbb4d598fb92515b2a898d8",
            "22b0b12ff9414d6d863520b4c38faa2e",
            "bf14508d51fa41c4b2a2f557c8e33489"
          ]
        },
        "id": "AhAK0W7UNcdx",
        "outputId": "801bb49a-e159-4aae-f32a-9681952e8d5d"
      },
      "source": [
        "asvi_bridge = train_model(ASVI(T=T, bridge_t=10), bridge_data)"
      ],
      "execution_count": 12,
      "outputs": [
        {
          "output_type": "stream",
          "text": [
            "/usr/local/lib/python3.6/dist-packages/ipykernel_launcher.py:12: UserWarning: To copy construct from a tensor, it is recommended to use sourceTensor.clone().detach() or sourceTensor.clone().detach().requires_grad_(True), rather than torch.tensor(sourceTensor).\n",
            "  if sys.path[0] == '':\n",
            "/usr/local/lib/python3.6/dist-packages/ipykernel_launcher.py:13: UserWarning: To copy construct from a tensor, it is recommended to use sourceTensor.clone().detach() or sourceTensor.clone().detach().requires_grad_(True), rather than torch.tensor(sourceTensor).\n",
            "  del sys.path[0]\n"
          ],
          "name": "stderr"
        },
        {
          "output_type": "display_data",
          "data": {
            "application/vnd.jupyter.widget-view+json": {
              "model_id": "f00b11c83aaf40eebd7f407be3d13e47",
              "version_minor": 0,
              "version_major": 2
            },
            "text/plain": [
              "HBox(children=(FloatProgress(value=0.0, max=20000.0), HTML(value='')))"
            ]
          },
          "metadata": {
            "tags": []
          }
        },
        {
          "output_type": "stream",
          "text": [
            "\n"
          ],
          "name": "stdout"
        }
      ]
    },
    {
      "cell_type": "code",
      "metadata": {
        "colab": {
          "base_uri": "https://localhost:8080/",
          "height": 280
        },
        "id": "KuSsa8IXMysj",
        "outputId": "ba9b59c7-5a56-4793-ed1b-e48fcb230dbc"
      },
      "source": [
        "fig = plt.figure()\n",
        "\n",
        "plt.subplot(2, 1, 1)\n",
        "plot_results(mf_bridge, bridge_data, bm.x, 'MF', bridge=10)\n",
        "\n",
        "plt.subplot(2, 1, 2)\n",
        "plot_results(asvi_bridge, bridge_data, bm.x, 'ASVI', bridge=10)\n",
        "\n",
        "plt.show()"
      ],
      "execution_count": 13,
      "outputs": [
        {
          "output_type": "display_data",
          "data": {
            "image/png": "[encoded data removed]",
            "text/plain": [
              "<Figure size 432x288 with 2 Axes>"
            ]
          },
          "metadata": {
            "tags": [],
            "needs_background": "light"
          }
        }
      ]
    },
    {
      "cell_type": "markdown",
      "metadata": {
        "id": "6afB4M50MNjd"
      },
      "source": [
        "## References"
      ]
    },
    {
      "cell_type": "markdown",
      "metadata": {
        "id": "8KxP-4i3MFN5"
      },
      "source": [
        "<a name=\"asvi\">[1] Ambrogioni, Luca, Max Hinne, and Marcel van Gerven. \"Automatic structured variational inference.\" arXiv preprint arXiv:2002.00643 (2020).</a>\n",
        "\n",
        "<a name=\"advi\">[2] Kucukelbir, Alp, et al. \"Automatic differentiation variational inference.\" The Journal of Machine Learning Research 18.1 (2017): 430-474.</a>\n",
        "\n",
        "<a name=\"cvi\">[3] Tran, Dustin, David M. Blei, and Edoardo M. Airoldi. \"Copula variational inference.\" arXiv preprint arXiv:1506.03159 (2015).</a>\n",
        "\n",
        "<a name=\"ssvi\">[4] Hoffman, Matthew, and David Blei. \"Stochastic structured variational inference.\" Artificial Intelligence and Statistics. PMLR, 2015.\n",
        "</a>\n",
        "\n",
        "<a name=\"hvi\">[5] Ranganath, Rajesh, Dustin Tran, and David Blei. \"Hierarchical variational models.\" International Conference on Machine Learning. PMLR, 2016.\n",
        "\n",
        "</a>"
      ]
    }
  ]
}